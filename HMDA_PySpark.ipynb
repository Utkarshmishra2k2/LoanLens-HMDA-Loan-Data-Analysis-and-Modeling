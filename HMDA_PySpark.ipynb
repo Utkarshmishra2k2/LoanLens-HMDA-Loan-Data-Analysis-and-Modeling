{
  "nbformat": 4,
  "nbformat_minor": 0,
  "metadata": {
    "colab": {
      "private_outputs": true,
      "provenance": [],
      "authorship_tag": "ABX9TyM/XeTYY+VBcO9SBLJXOulx",
      "include_colab_link": true
    },
    "kernelspec": {
      "name": "python3",
      "display_name": "Python 3"
    },
    "language_info": {
      "name": "python"
    }
  },
  "cells": [
    {
      "cell_type": "markdown",
      "metadata": {
        "id": "view-in-github",
        "colab_type": "text"
      },
      "source": [
        "<a href=\"https://colab.research.google.com/github/Utkarshmishra2k2/LoanLens-HMDA-Loan-Data-Analysis-and-Modeling/blob/main/HMDA_PySpark.ipynb\" target=\"_parent\"><img src=\"https://colab.research.google.com/assets/colab-badge.svg\" alt=\"Open In Colab\"/></a>"
      ]
    },
    {
      "cell_type": "code",
      "source": [
        "from pyspark.sql import SparkSession\n",
        "from pyspark.sql.functions import col, isnan, when, count\n",
        "from pyspark.sql.functions import expr\n",
        "from pyspark.ml.feature import VectorAssembler, StandardScaler, OneHotEncoder, StringIndexer\n",
        "from pyspark.ml import Pipeline\n",
        "from pyspark.ml.regression import RandomForestRegressor\n",
        "from pyspark.ml.evaluation import RegressionEvaluator\n",
        "from pyspark.ml.tuning import ParamGridBuilder, CrossValidator\n",
        "import numpy as np\n",
        "import json\n",
        "import warnings\n",
        "warnings.filterwarnings(\"ignore\")\n",
        "import shutil"
      ],
      "metadata": {
        "id": "15pyhLuM01nT"
      },
      "execution_count": null,
      "outputs": []
    },
    {
      "cell_type": "code",
      "source": [
        "import plotly.express as px\n",
        "import plotly.graph_objects as go\n",
        "from plotly.subplots import make_subplots\n",
        "from scipy.stats import gaussian_kde\n",
        "import pandas as pd"
      ],
      "metadata": {
        "id": "NbkQmcpg05ZR"
      },
      "execution_count": null,
      "outputs": []
    },
    {
      "cell_type": "code",
      "source": [
        "import kagglehub\n",
        "\n",
        "# Download latest version\n",
        "path = kagglehub.dataset_download(\"utkarshmishra2k2/hyderabad-metropolitan-development-authority\")\n",
        "\n",
        "print(\"Path to dataset files:\", path)"
      ],
      "metadata": {
        "id": "uSk4IRpdY2CH"
      },
      "execution_count": null,
      "outputs": []
    },
    {
      "cell_type": "code",
      "source": [
        "shutil.copy(f\"/root/.cache/kagglehub/datasets/utkarshmishra2k2/hyderabad-metropolitan-development-authority/versions/1/HMDA Data Set For Use.csv\", \"/content/HMDA Data Set For Use.csv\")"
      ],
      "metadata": {
        "id": "o15jGUPVaB09"
      },
      "execution_count": null,
      "outputs": []
    },
    {
      "cell_type": "code",
      "source": [
        "spark = SparkSession.builder.appName(\"Project\").getOrCreate()"
      ],
      "metadata": {
        "id": "sQGlVifT07z4"
      },
      "execution_count": null,
      "outputs": []
    },
    {
      "cell_type": "code",
      "source": [
        "df = spark.read.csv(\"HMDA Data Set For Use.csv\", header=True, inferSchema=True)"
      ],
      "metadata": {
        "id": "2n_-MZgo091i"
      },
      "execution_count": null,
      "outputs": []
    },
    {
      "cell_type": "code",
      "source": [
        "print(\"DataFrame Schema:\")\n",
        "df.printSchema()"
      ],
      "metadata": {
        "id": "uGF2_4rJ1iY-"
      },
      "execution_count": null,
      "outputs": []
    },
    {
      "cell_type": "code",
      "source": [
        "num_rows = df.count()\n",
        "num_cols = len(df.columns)\n",
        "print(\"DataFrame Shape: ({}, {})\".format(num_rows, num_cols))"
      ],
      "metadata": {
        "id": "F60YU7lY1kNp"
      },
      "execution_count": null,
      "outputs": []
    },
    {
      "cell_type": "code",
      "source": [
        "print(\"\\nDescriptive Statistics:\")\n",
        "df.describe().show()"
      ],
      "metadata": {
        "id": "t6MiEubD1mff"
      },
      "execution_count": null,
      "outputs": []
    },
    {
      "cell_type": "code",
      "source": [
        "dtypes = df.dtypes\n",
        "num_columns = [name for name, dtype in dtypes if dtype in ['int', 'double']]\n",
        "cat_columns = [name for name, dtype in dtypes if dtype == 'string']"
      ],
      "metadata": {
        "id": "7IDbZfuf1oKw"
      },
      "execution_count": null,
      "outputs": []
    },
    {
      "cell_type": "code",
      "source": [
        "code_columns = ['agency_code', 'loan_type', 'property_type', 'loan_purpose', 'owner_occupancy',\n",
        "                'preapproval', 'action_taken', 'applicant_ethnicity', 'co_applicant_ethnicity',\n",
        "                'applicant_race_1', 'co_applicant_race_1', 'applicant_sex', 'co_applicant_sex',\n",
        "                'purchaser_type', 'hoepa_status', 'lien_status']"
      ],
      "metadata": {
        "id": "EXKLjVR6SmHu"
      },
      "execution_count": null,
      "outputs": []
    },
    {
      "cell_type": "code",
      "source": [
        "for col_name in code_columns:\n",
        "    if col_name in df.columns:\n",
        "        df = df.withColumn(col_name, col(col_name).cast(\"string\"))\n",
        "        cat_columns.append(col_name)"
      ],
      "metadata": {
        "id": "QBB9ww79SoSs"
      },
      "execution_count": null,
      "outputs": []
    },
    {
      "cell_type": "code",
      "source": [
        "cat_columns = list(set(cat_columns))"
      ],
      "metadata": {
        "id": "8wx7Kf1iSx97"
      },
      "execution_count": null,
      "outputs": []
    },
    {
      "cell_type": "code",
      "source": [
        "dtypes = df.dtypes  # Refresh dtypes after casting\n",
        "num_columns = [name for name, dtype in dtypes if dtype in ['int', 'double']]"
      ],
      "metadata": {
        "id": "ZMukZdTuTcVA"
      },
      "execution_count": null,
      "outputs": []
    },
    {
      "cell_type": "code",
      "source": [
        "for col_name in cat_columns:\n",
        "    print(f\"\\nFrequency Distribution for '{col_name}':\")\n",
        "    df.groupBy(col_name).count().orderBy(\"count\", ascending=False).show()"
      ],
      "metadata": {
        "id": "4leDfY5s1tp4"
      },
      "execution_count": null,
      "outputs": []
    },
    {
      "cell_type": "code",
      "source": [
        "missing_df = df.select([count(when(col(c).isNull() | isnan(c), c)).alias(c) for c in df.columns])\n",
        "print(\"Missing Values per Column:\")\n",
        "missing_df.show()"
      ],
      "metadata": {
        "id": "HbWuQzElS88W"
      },
      "execution_count": null,
      "outputs": []
    },
    {
      "cell_type": "code",
      "source": [
        "for col_name in num_columns:\n",
        "    median_val = df.approxQuantile(col_name, [0.5], 0.01)[0]\n",
        "    df = df.na.fill({col_name: median_val})"
      ],
      "metadata": {
        "id": "qAhBY9Gu1wdX"
      },
      "execution_count": null,
      "outputs": []
    },
    {
      "cell_type": "code",
      "source": [
        "for col_name in cat_columns:\n",
        "    if col_name in df.columns:\n",
        "        mode_row = df.groupBy(col_name).count().orderBy(\"count\", ascending=False).first()\n",
        "        if mode_row and mode_row[0] is not None:\n",
        "            mode_val = mode_row[0]\n",
        "            df = df.na.fill({col_name: mode_val})"
      ],
      "metadata": {
        "id": "AfbttO5r1yKG"
      },
      "execution_count": null,
      "outputs": []
    },
    {
      "cell_type": "code",
      "source": [
        "df = df.withColumn(\"loan_income_ratio\", col(\"loan_amount_000s\") / col(\"applicant_income_000s\"))\n",
        "df = df.withColumn(\"loan_property_ratio\", col(\"loan_amount_000s\") / (col(\"hud_median_family_income\") / 1000))"
      ],
      "metadata": {
        "id": "6eOQgSQl10Zz"
      },
      "execution_count": null,
      "outputs": []
    },
    {
      "cell_type": "code",
      "source": [
        "low_variance_cols = [col_name for col_name in cat_columns if df.select(col_name).distinct().count() <= 1]\n",
        "print(f\"Dropping low-variance columns: {low_variance_cols}\")\n",
        "df = df.drop(*low_variance_cols)"
      ],
      "metadata": {
        "id": "wVIQbskBJEBK"
      },
      "execution_count": null,
      "outputs": []
    },
    {
      "cell_type": "code",
      "source": [
        "pdf = df.select(num_columns).toPandas()"
      ],
      "metadata": {
        "id": "B-tmdJPf2WwI"
      },
      "execution_count": null,
      "outputs": []
    },
    {
      "cell_type": "code",
      "source": [
        "# (a) Distribution Histograms & KDE Plots for each numerical feature\n",
        "fig_hist_kde = make_subplots(\n",
        "    rows=2, cols=3,\n",
        "    subplot_titles=[f'Distribution of {feature}' for feature in num_columns[:6]]\n",
        ")\n",
        "\n",
        "for i, feature in enumerate(num_columns[:6]):  # limiting to first 6 numeric columns for layout\n",
        "    row = i // 3 + 1\n",
        "    col_loc = i % 3 + 1\n",
        "\n",
        "    # Histogram trace\n",
        "    hist_trace = go.Histogram(\n",
        "        x=pdf[feature],\n",
        "        name=f'{feature} Histogram',\n",
        "        histnorm='probability density',\n",
        "        opacity=0.75\n",
        "    )\n",
        "\n",
        "    # KDE trace using scipy\n",
        "    data = pdf[feature].dropna()\n",
        "    if len(data) > 1:\n",
        "        kde = gaussian_kde(data)\n",
        "        x_vals = np.linspace(data.min(), data.max(), 1000)\n",
        "        y_vals = kde(x_vals)\n",
        "        kde_trace = go.Scatter(\n",
        "            x=x_vals,\n",
        "            y=y_vals,\n",
        "            mode='lines',\n",
        "            name=f'{feature} KDE',\n",
        "            line=dict(color='black', dash='dot')\n",
        "        )\n",
        "        fig_hist_kde.add_trace(kde_trace, row=row, col=col_loc)\n",
        "    fig_hist_kde.add_trace(hist_trace, row=row, col=col_loc)\n",
        "\n",
        "fig_hist_kde.update_layout(\n",
        "    title_text=\"Histograms and KDEs of Numerical Features\",\n",
        "    height=800,\n",
        "    width=1000,\n",
        "    showlegend=False,\n",
        "    template=\"plotly_dark\",\n",
        "    title_x=0.5,\n",
        ")\n",
        "fig_hist_kde.show()"
      ],
      "metadata": {
        "id": "cI-VoDgA12tz"
      },
      "execution_count": null,
      "outputs": []
    },
    {
      "cell_type": "code",
      "source": [
        "# (b) Boxplots for numerical features\n",
        "fig_box = make_subplots(\n",
        "    rows=2, cols=3,\n",
        "    subplot_titles=[f'Boxplot of {feature}' for feature in num_columns[:6]]\n",
        ")\n",
        "\n",
        "for i, feature in enumerate(num_columns[:6]):\n",
        "    row = i // 3 + 1\n",
        "    col_loc = i % 3 + 1\n",
        "    box_trace = go.Box(\n",
        "        y=pdf[feature],\n",
        "        name=feature,\n",
        "        boxmean='sd',\n",
        "        jitter=0.05,\n",
        "        whiskerwidth=0.5,\n",
        "        marker=dict(color='lightblue'),\n",
        "        line=dict(width=1)\n",
        "    )\n",
        "    fig_box.add_trace(box_trace, row=row, col=col_loc)\n",
        "\n",
        "fig_box.update_layout(\n",
        "    title_text=\"Boxplots of Numerical Features\",\n",
        "    height=800,\n",
        "    width=1000,\n",
        "    showlegend=False,\n",
        "    template=\"plotly_dark\",\n",
        "    title_x=0.5,\n",
        ")\n",
        "fig_box.show()"
      ],
      "metadata": {
        "id": "nAakVoeD2Tcd"
      },
      "execution_count": null,
      "outputs": []
    },
    {
      "cell_type": "code",
      "source": [
        "corr_matrix = pdf.corr()\n",
        "fig_corr = px.imshow(corr_matrix, text_auto=True, aspect=\"auto\",\n",
        "                     title=\"Correlation Heatmap of Numerical Features\", template=\"plotly_dark\")\n",
        "fig_corr.show()"
      ],
      "metadata": {
        "id": "YCfq5P1w2dAK"
      },
      "execution_count": null,
      "outputs": []
    },
    {
      "cell_type": "code",
      "source": [
        "irrelevant_cols = [\n",
        "    'applicant_race_name_2', 'applicant_race_name_3', 'applicant_race_name_4', 'applicant_race_4',\n",
        "    'applicant_race_name_5', 'applicant_race_5',\n",
        "    'co_applicant_race_name_3', 'co_applicant_race_3',\n",
        "    'co_applicant_race_name_4', 'co_applicant_race_4',\n",
        "    'co_applicant_race_name_5', 'co_applicant_race_5',\n",
        "    'edit_status_name', 'edit_status', 'sequence_number',\n",
        "    'application_date_indicator', 'respondent_id', 'co_applicant_sex_name',\n",
        "    'denial_reason_name_1', 'denial_reason_name_2', 'denial_reason_name_3',\n",
        "    'hoepa_status_name', 'lien_status_name','applicant_sex_name','co_applicant_race_name_2'\n",
        "]\n",
        "print(f\"Dropping irrelevant columns: {irrelevant_cols}\")\n",
        "df = df.drop(*irrelevant_cols)"
      ],
      "metadata": {
        "id": "BNTxJy6NLEh3"
      },
      "execution_count": null,
      "outputs": []
    },
    {
      "cell_type": "code",
      "source": [
        "train_df, test_df = df.randomSplit([0.7, 0.3], seed=42)"
      ],
      "metadata": {
        "id": "SuLwxj-fHBvP"
      },
      "execution_count": null,
      "outputs": []
    },
    {
      "cell_type": "code",
      "source": [
        "print(f\"Training Rows: {train_df.count()}, Test Rows: {test_df.count()}\")"
      ],
      "metadata": {
        "id": "rJUgHGrkP43C"
      },
      "execution_count": null,
      "outputs": []
    },
    {
      "cell_type": "code",
      "source": [
        "existing_columns = set(df.columns)\n",
        "valid_cat_columns = [\n",
        "    col_name for col_name in cat_columns\n",
        "    if col_name in existing_columns and df.select(col_name).distinct().count() > 1\n",
        "]\n",
        "print(\"Valid Categorical Columns:\", valid_cat_columns)"
      ],
      "metadata": {
        "id": "7jSgr9R2GXJw"
      },
      "execution_count": null,
      "outputs": []
    },
    {
      "cell_type": "code",
      "source": [
        "target = \"loan_amount_000s\"\n",
        "numerical_features = ['applicant_income_000s', 'hud_median_family_income', 'population',\n",
        "                      'minority_population', \"loan_income_ratio\", \"loan_property_ratio\"]"
      ],
      "metadata": {
        "id": "xuRBG4DhGZbw"
      },
      "execution_count": null,
      "outputs": []
    },
    {
      "cell_type": "code",
      "source": [
        "indexers = [\n",
        "    StringIndexer(inputCol=col_name, outputCol=f\"{col_name}_index\", handleInvalid=\"keep\")\n",
        "    for col_name in valid_cat_columns\n",
        "]"
      ],
      "metadata": {
        "id": "KLJZzKrhGeFQ"
      },
      "execution_count": null,
      "outputs": []
    },
    {
      "cell_type": "code",
      "source": [
        "encoders = [\n",
        "    OneHotEncoder(inputCol=f\"{col_name}_index\", outputCol=f\"{col_name}_encoded\")\n",
        "    for col_name in valid_cat_columns\n",
        "]"
      ],
      "metadata": {
        "id": "02ig2ShTG3cO"
      },
      "execution_count": null,
      "outputs": []
    },
    {
      "cell_type": "code",
      "source": [
        "assembled_features = numerical_features + [f\"{col}_encoded\" for col in valid_cat_columns]"
      ],
      "metadata": {
        "id": "FY-MJDAvG5Ff"
      },
      "execution_count": null,
      "outputs": []
    },
    {
      "cell_type": "code",
      "source": [
        "assembler = VectorAssembler(inputCols=assembled_features, outputCol=\"features\")"
      ],
      "metadata": {
        "id": "fWHydZKqG7cf"
      },
      "execution_count": null,
      "outputs": []
    },
    {
      "cell_type": "code",
      "source": [
        "scaler = StandardScaler(inputCol=\"features\", outputCol=\"scaled_features\")"
      ],
      "metadata": {
        "id": "mB7-1mCBG8ye"
      },
      "execution_count": null,
      "outputs": []
    },
    {
      "cell_type": "code",
      "source": [
        "rf = RandomForestRegressor(featuresCol=\"features\", labelCol=target, numTrees=100, maxDepth=10, seed=42)"
      ],
      "metadata": {
        "id": "GCrl5AwwG-PQ"
      },
      "execution_count": null,
      "outputs": []
    },
    {
      "cell_type": "code",
      "source": [
        "pipeline = Pipeline(stages=indexers + encoders + [assembler, scaler, rf])"
      ],
      "metadata": {
        "id": "PVkpcH_uHAIe"
      },
      "execution_count": null,
      "outputs": []
    },
    {
      "cell_type": "code",
      "source": [
        "model = pipeline.fit(train_df)"
      ],
      "metadata": {
        "id": "ZMw8VtSyHDGQ"
      },
      "execution_count": null,
      "outputs": []
    },
    {
      "cell_type": "code",
      "source": [
        "predictions = model.transform(test_df)"
      ],
      "metadata": {
        "id": "zlwAruz-PB-N"
      },
      "execution_count": null,
      "outputs": []
    },
    {
      "cell_type": "code",
      "source": [
        "rmse_evaluator = RegressionEvaluator(labelCol=target, predictionCol=\"prediction\", metricName=\"rmse\")\n",
        "rmse = rmse_evaluator.evaluate(predictions)\n",
        "print(f\"Root Mean Squared Error (RMSE): {rmse}\")"
      ],
      "metadata": {
        "id": "7mruK8T_M7fE"
      },
      "execution_count": null,
      "outputs": []
    },
    {
      "cell_type": "code",
      "source": [
        "mae_evaluator = RegressionEvaluator(labelCol=target, predictionCol=\"prediction\", metricName=\"mae\")\n",
        "mae = mae_evaluator.evaluate(predictions)\n",
        "print(f\"Mean Absolute Error (MAE): {mae}\")"
      ],
      "metadata": {
        "id": "dBdA7_SXM3pm"
      },
      "execution_count": null,
      "outputs": []
    },
    {
      "cell_type": "code",
      "source": [
        "r2_evaluator = RegressionEvaluator(labelCol=target, predictionCol=\"prediction\", metricName=\"r2\")\n",
        "r2 = r2_evaluator.evaluate(predictions)\n",
        "print(f\"R-squared (R2): {r2}\")"
      ],
      "metadata": {
        "id": "X750Z4uHWyZd"
      },
      "execution_count": null,
      "outputs": []
    },
    {
      "cell_type": "code",
      "source": [
        "spark.stop()"
      ],
      "metadata": {
        "id": "f9pRsTGfZHrJ"
      },
      "execution_count": null,
      "outputs": []
    },
    {
      "cell_type": "code",
      "source": [
        "print(\"The End\")"
      ],
      "metadata": {
        "id": "_HxxVPdQXrfM"
      },
      "execution_count": null,
      "outputs": []
    }
  ]
}