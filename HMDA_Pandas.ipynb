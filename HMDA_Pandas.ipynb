{
  "nbformat": 4,
  "nbformat_minor": 0,
  "metadata": {
    "colab": {
      "private_outputs": true,
      "provenance": [],
      "authorship_tag": "ABX9TyOoqEPnymAVU+x48C/VRHe0",
      "include_colab_link": true
    },
    "kernelspec": {
      "name": "python3",
      "display_name": "Python 3"
    },
    "language_info": {
      "name": "python"
    }
  },
  "cells": [
    {
      "cell_type": "markdown",
      "metadata": {
        "id": "view-in-github",
        "colab_type": "text"
      },
      "source": [
        "<a href=\"https://colab.research.google.com/github/Utkarshmishra2k2/LoanLens-HMDA-Loan-Data-Analysis-and-Modeling/blob/main/HMDA_Pandas.ipynb\" target=\"_parent\"><img src=\"https://colab.research.google.com/assets/colab-badge.svg\" alt=\"Open In Colab\"/></a>"
      ]
    },
    {
      "cell_type": "code",
      "execution_count": null,
      "metadata": {
        "id": "6MdeUFaruTaj"
      },
      "outputs": [],
      "source": [
        "import pandas as pd\n",
        "import numpy as np\n",
        "import scipy.stats as stats\n",
        "import plotly.express as px\n",
        "import plotly.graph_objects as go\n",
        "from plotly.subplots import make_subplots\n",
        "from sklearn.model_selection import train_test_split, GridSearchCV, cross_val_score\n",
        "from sklearn.preprocessing import StandardScaler, OneHotEncoder\n",
        "from sklearn.impute import SimpleImputer\n",
        "from sklearn.compose import ColumnTransformer\n",
        "from sklearn.pipeline import Pipeline\n",
        "from sklearn.ensemble import RandomForestRegressor\n",
        "from sklearn.metrics import mean_squared_error, r2_score, mean_absolute_error\n",
        "from pyspark.sql import SparkSession\n",
        "import joblib\n",
        "import json\n",
        "import shap\n",
        "import shutil\n",
        "import warnings"
      ]
    },
    {
      "cell_type": "code",
      "source": [
        "warnings.filterwarnings(\"ignore\")"
      ],
      "metadata": {
        "id": "C8B1G9w7uUi6"
      },
      "execution_count": null,
      "outputs": []
    },
    {
      "cell_type": "code",
      "source": [
        "import kagglehub\n",
        "\n",
        "path = kagglehub.dataset_download(\"utkarshmishra2k2/hyderabad-metropolitan-development-authority\")\n",
        "\n",
        "print(\"Path to dataset files:\", path)"
      ],
      "metadata": {
        "id": "3Q1wGErRZN8E"
      },
      "execution_count": null,
      "outputs": []
    },
    {
      "cell_type": "code",
      "source": [
        "shutil.copy(f\"/root/.cache/kagglehub/datasets/utkarshmishra2k2/hyderabad-metropolitan-development-authority/versions/1/HMDA Data Set For Use.csv\", \"/content/HMDA Data Set For Use.csv\")"
      ],
      "metadata": {
        "id": "0aSSblk1bGYj"
      },
      "execution_count": null,
      "outputs": []
    },
    {
      "cell_type": "code",
      "source": [
        "spark = SparkSession.builder.appName(\"Sample CSV Export\").getOrCreate()"
      ],
      "metadata": {
        "id": "xqUFu2yvuWZY"
      },
      "execution_count": null,
      "outputs": []
    },
    {
      "cell_type": "code",
      "source": [
        "file_path = \"/content/HMDA Data Set For Use.csv\""
      ],
      "metadata": {
        "id": "lcJzXQDXbS3b"
      },
      "execution_count": null,
      "outputs": []
    },
    {
      "cell_type": "code",
      "source": [
        "df = spark.read.csv(file_path, header=True, inferSchema=True)"
      ],
      "metadata": {
        "id": "Jq705oDJbaBb"
      },
      "execution_count": null,
      "outputs": []
    },
    {
      "cell_type": "code",
      "source": [
        "sample_df = df.sample(fraction=0.20, seed=42)"
      ],
      "metadata": {
        "id": "Q-wxAhLEbbtx"
      },
      "execution_count": null,
      "outputs": []
    },
    {
      "cell_type": "code",
      "source": [
        "output_path = \"/content\""
      ],
      "metadata": {
        "id": "Y39axvfcbfMC"
      },
      "execution_count": null,
      "outputs": []
    },
    {
      "cell_type": "code",
      "source": [
        "sample_df.coalesce(1).write.csv(output_path, header=True, mode=\"overwrite\")"
      ],
      "metadata": {
        "id": "-h02haSPbq2z"
      },
      "execution_count": null,
      "outputs": []
    },
    {
      "cell_type": "code",
      "source": [
        "print(\"20% sample saved successfully!\")"
      ],
      "metadata": {
        "id": "LHp2J7aObs5j"
      },
      "execution_count": null,
      "outputs": []
    },
    {
      "cell_type": "code",
      "source": [
        "shutil.copy(f\"/content/HMDA.csv/HMDA01.csv\", \"/content/HMDA01.csv\")"
      ],
      "metadata": {
        "id": "HiNwXugigAgz"
      },
      "execution_count": null,
      "outputs": []
    },
    {
      "cell_type": "code",
      "source": [
        "df = pd.read_csv(\"/content/HMDA01.csv\")"
      ],
      "metadata": {
        "id": "t-EERxM2btgG"
      },
      "execution_count": null,
      "outputs": []
    },
    {
      "cell_type": "code",
      "source": [
        "df.sample(5)"
      ],
      "metadata": {
        "id": "_GwqM4wB-MRh"
      },
      "execution_count": null,
      "outputs": []
    },
    {
      "cell_type": "code",
      "source": [
        "print(\"DataFrame Shape:\", df.shape)"
      ],
      "metadata": {
        "id": "KSJ6S9Zlnm1I"
      },
      "execution_count": null,
      "outputs": []
    },
    {
      "cell_type": "code",
      "source": [
        "print(\"\\nData Types:\\n\", df.dtypes)"
      ],
      "metadata": {
        "id": "pHCB6zOTnqY4"
      },
      "execution_count": null,
      "outputs": []
    },
    {
      "cell_type": "code",
      "source": [
        "print(\"\\nDescriptive Statistics:\\n\", df.describe().T)"
      ],
      "metadata": {
        "id": "ty_pRTSgnvgJ"
      },
      "execution_count": null,
      "outputs": []
    },
    {
      "cell_type": "code",
      "source": [
        "categorical_columns = df.select_dtypes(include=['object']).columns\n",
        "for column in categorical_columns:\n",
        "  print(f\"\\nFrequency Distribution of '{column}':\")\n",
        "  print(df[column].value_counts().T)"
      ],
      "metadata": {
        "id": "DWwRxqcRn0Xa"
      },
      "execution_count": null,
      "outputs": []
    },
    {
      "cell_type": "code",
      "source": [
        "missing_values = df.isnull().sum()\n",
        "missing_percentage = (missing_values / len(df)) * 100"
      ],
      "metadata": {
        "id": "mqdmeh2xoCL6"
      },
      "execution_count": null,
      "outputs": []
    },
    {
      "cell_type": "code",
      "source": [
        "print(\"Columns with Missing Values:\")\n",
        "print(missing_percentage[missing_percentage > 0])"
      ],
      "metadata": {
        "id": "Y_JW2TBvoMU4"
      },
      "execution_count": null,
      "outputs": []
    },
    {
      "cell_type": "code",
      "source": [
        "numerical_columns = df.select_dtypes(include=['number']).columns\n",
        "for column in numerical_columns:\n",
        "    if df[column].isnull().any():\n",
        "        df[column].fillna(df[column].median(), inplace=True)"
      ],
      "metadata": {
        "id": "-4oyt0Q5oOqY"
      },
      "execution_count": null,
      "outputs": []
    },
    {
      "cell_type": "code",
      "source": [
        "categorical_columns = df.select_dtypes(include=['object']).columns\n",
        "for column in categorical_columns:\n",
        "    if df[column].isnull().any():\n",
        "        df[column].fillna(df[column].mode()[0], inplace=True)"
      ],
      "metadata": {
        "id": "CB0XDcEnoSt6"
      },
      "execution_count": null,
      "outputs": []
    },
    {
      "cell_type": "code",
      "source": [
        "numerical_features = ['loan_amount_000s', 'applicant_income_000s', 'hud_median_family_income', 'population', 'minority_population']\n",
        "categorical_features = ['agency_name', 'loan_type_name', 'property_type_name', 'loan_purpose_name', 'owner_occupancy_name']"
      ],
      "metadata": {
        "id": "C9XFNWDuo1l1"
      },
      "execution_count": null,
      "outputs": []
    },
    {
      "cell_type": "code",
      "source": [
        "fig = make_subplots(\n",
        "    rows=2, cols=3,\n",
        "    subplot_titles=[f'Distribution of {feature}' for feature in numerical_features]\n",
        ")\n",
        "for i, feature in enumerate(numerical_features):\n",
        "    row = i // 3 + 1\n",
        "    col = i % 3 + 1\n",
        "\n",
        "    # Histogram\n",
        "    hist = go.Histogram(\n",
        "        x=df[feature].dropna(),\n",
        "        name=f'{feature} Histogram',\n",
        "        histnorm='probability density',\n",
        "        opacity=0.75\n",
        "    )\n",
        "\n",
        "    # KDE using scipy\n",
        "    kde = stats.gaussian_kde(df[feature].dropna())\n",
        "    x_vals = np.linspace(df[feature].min(), df[feature].max(), 1000)\n",
        "    y_vals = kde(x_vals)\n",
        "    kde_trace = go.Scatter(\n",
        "        x=x_vals,\n",
        "        y=y_vals,\n",
        "        mode='lines',\n",
        "        name=f'{feature} KDE',\n",
        "        line=dict(color='black', dash='dot')\n",
        "    )\n",
        "\n",
        "    fig.add_trace(hist, row=row, col=col)\n",
        "    fig.add_trace(kde_trace, row=row, col=col)\n",
        "\n",
        "fig.update_layout(\n",
        "    title_text=\"Distributions and KDEs of Numerical Features\",\n",
        "    height=800,\n",
        "    width=1000,\n",
        "    showlegend=False,\n",
        "    template=\"plotly_dark\",\n",
        "    title_x=0.5,\n",
        ")\n",
        "fig.show()\n",
        "\n",
        "# Boxplots for numerical features\n",
        "fig_box = make_subplots(\n",
        "    rows=2, cols=3,\n",
        "    subplot_titles=[f'Boxplot of {feature}' for feature in numerical_features]\n",
        ")\n",
        "for i, feature in enumerate(numerical_features):\n",
        "    row = i // 3 + 1\n",
        "    col = i % 3 + 1\n",
        "    box_trace = go.Box(\n",
        "        y=df[feature].dropna(),\n",
        "        name=feature,\n",
        "        boxmean='sd',\n",
        "        jitter=0.05,\n",
        "        whiskerwidth=0.5,\n",
        "        marker=dict(color='lightblue'),\n",
        "        line=dict(width=1)\n",
        "    )\n",
        "    fig_box.add_trace(box_trace, row=row, col=col)\n",
        "\n",
        "fig_box.update_layout(\n",
        "    title_text=\"Boxplots of Numerical Features\",\n",
        "    height=800,\n",
        "    width=1000,\n",
        "    showlegend=False,\n",
        "    template=\"plotly_dark\",\n",
        "    title_x=0.5,\n",
        ")\n",
        "fig_box.show()"
      ],
      "metadata": {
        "id": "5uB6l8p0uwc3"
      },
      "execution_count": null,
      "outputs": []
    },
    {
      "cell_type": "code",
      "source": [
        "corr_matrix = df[numerical_features].corr()\n",
        "fig_corr = px.imshow(corr_matrix, text_auto=True, aspect=\"auto\",\n",
        "                     title=\"Correlation Heatmap of Numerical Features\", template=\"plotly_dark\")\n",
        "fig_corr.show()"
      ],
      "metadata": {
        "id": "KOC7o0NDw5sY"
      },
      "execution_count": null,
      "outputs": []
    },
    {
      "cell_type": "code",
      "source": [
        "target = 'loan_amount_000s'"
      ],
      "metadata": {
        "id": "ohVIo36luykn"
      },
      "execution_count": null,
      "outputs": []
    },
    {
      "cell_type": "code",
      "source": [
        "features = df.columns.drop(target).tolist()"
      ],
      "metadata": {
        "id": "mJyHdPz_u_bX"
      },
      "execution_count": null,
      "outputs": []
    },
    {
      "cell_type": "code",
      "source": [
        "df['loan_income_ratio'] = df['loan_amount_000s'] / df['applicant_income_000s']\n",
        "df['loan_property_ratio'] = df['loan_amount_000s'] / (df['hud_median_family_income'] / 1000)"
      ],
      "metadata": {
        "id": "UUB0KU0UvBLl"
      },
      "execution_count": null,
      "outputs": []
    },
    {
      "cell_type": "code",
      "source": [
        "numerical_features = ['applicant_income_000s', 'hud_median_family_income', 'population',\n",
        "                      'minority_population', 'loan_income_ratio', 'loan_property_ratio']\n",
        "categorical_features = df.select_dtypes(include=['object']).columns.tolist()"
      ],
      "metadata": {
        "id": "cirIPCkovC4o"
      },
      "execution_count": null,
      "outputs": []
    },
    {
      "cell_type": "code",
      "source": [
        "numerical_transformer = Pipeline(steps=[\n",
        "    ('imputer', SimpleImputer(strategy='median')),\n",
        "    ('scaler', StandardScaler())\n",
        "])"
      ],
      "metadata": {
        "id": "B-GYMgQ2vFOb"
      },
      "execution_count": null,
      "outputs": []
    },
    {
      "cell_type": "code",
      "source": [
        "categorical_transformer = Pipeline(steps=[\n",
        "    ('imputer', SimpleImputer(strategy='most_frequent')),\n",
        "    ('onehot', OneHotEncoder(handle_unknown='ignore'))\n",
        "])"
      ],
      "metadata": {
        "id": "GeyQ7v1bvHfG"
      },
      "execution_count": null,
      "outputs": []
    },
    {
      "cell_type": "code",
      "source": [
        "preprocessor = ColumnTransformer(transformers=[\n",
        "    ('num', numerical_transformer, numerical_features),\n",
        "    ('cat', categorical_transformer, categorical_features)\n",
        "])"
      ],
      "metadata": {
        "id": "wYAHM-eUvJKJ"
      },
      "execution_count": null,
      "outputs": []
    },
    {
      "cell_type": "code",
      "source": [
        "X = df.drop(columns=[target])\n",
        "y = df[target]"
      ],
      "metadata": {
        "id": "T5L2VXGCvK0Z"
      },
      "execution_count": null,
      "outputs": []
    },
    {
      "cell_type": "code",
      "source": [
        "X_train, X_temp, y_train, y_temp = train_test_split(X, y, test_size=0.3, random_state=42)"
      ],
      "metadata": {
        "id": "KYjr-F3hvM33"
      },
      "execution_count": null,
      "outputs": []
    },
    {
      "cell_type": "code",
      "source": [
        "X_val, X_test, y_val, y_test = train_test_split(X_temp, y_temp, test_size=0.5, random_state=42)"
      ],
      "metadata": {
        "id": "RPaUN5JnvP0G"
      },
      "execution_count": null,
      "outputs": []
    },
    {
      "cell_type": "code",
      "source": [
        "model_pipeline = Pipeline(steps=[\n",
        "    ('preprocessor', preprocessor),\n",
        "    ('regressor', RandomForestRegressor(n_estimators=100, max_depth=10, random_state=42))\n",
        "])"
      ],
      "metadata": {
        "id": "6xi54F-1vSIm"
      },
      "execution_count": null,
      "outputs": []
    },
    {
      "cell_type": "code",
      "source": [
        "model_pipeline.fit(X_train, y_train)"
      ],
      "metadata": {
        "id": "e67pX42tvVCX"
      },
      "execution_count": null,
      "outputs": []
    },
    {
      "cell_type": "code",
      "source": [
        "y_pred_val = model_pipeline.predict(X_val)"
      ],
      "metadata": {
        "id": "ZSvFqmsbvWpX"
      },
      "execution_count": null,
      "outputs": []
    },
    {
      "cell_type": "code",
      "source": [
        "print(\"Mean Squared Error (MSE):\", mean_squared_error(y_val, y_pred_val))"
      ],
      "metadata": {
        "id": "IYDeGalktGro"
      },
      "execution_count": null,
      "outputs": []
    },
    {
      "cell_type": "code",
      "source": [
        "print(\"Root Mean Squared Error (RMSE):\",  np.sqrt(mean_squared_error(y_val, y_pred_val)))"
      ],
      "metadata": {
        "id": "EL2bHujQtKMH"
      },
      "execution_count": null,
      "outputs": []
    },
    {
      "cell_type": "code",
      "source": [
        "print(\"Mean Absolute Error (MAE):\", mean_absolute_error(y_val, y_pred_val))"
      ],
      "metadata": {
        "id": "HKBY3VivtNI3"
      },
      "execution_count": null,
      "outputs": []
    },
    {
      "cell_type": "code",
      "source": [
        "r2 = r2_score(y_val, y_pred_val)\n",
        "print(\"R-squared (R2):\",r2)"
      ],
      "metadata": {
        "id": "NfdeoCiQtPhI"
      },
      "execution_count": null,
      "outputs": []
    },
    {
      "cell_type": "code",
      "source": [
        "n = X_val.shape[0]\n",
        "X_train_transformed = preprocessor.fit_transform(X_train)\n",
        "p = X_train_transformed.shape[1]\n",
        "adjusted_r2 = 1 - (1 - r2) * (n - 1) / (n - p - 1)\n",
        "\n",
        "print(\"Adjusted R-squared:\", adjusted_r2)"
      ],
      "metadata": {
        "id": "ZCQOZAwotSJY"
      },
      "execution_count": null,
      "outputs": []
    },
    {
      "cell_type": "code",
      "source": [
        "residuals = y_val - y_pred_val\n",
        "fig_resid = px.scatter(x=y_pred_val, y=residuals,\n",
        "                       labels={'x': 'Predicted', 'y': 'Residuals'},\n",
        "                       title=\"Residual Plot on Validation Set\", template=\"plotly_dark\")\n",
        "fig_resid.add_hline(y=0, line_dash=\"dash\")\n",
        "fig_resid.show()"
      ],
      "metadata": {
        "id": "olPjsdFeyEpp"
      },
      "execution_count": null,
      "outputs": []
    },
    {
      "cell_type": "code",
      "source": [
        "param_grid = {\n",
        "    'regressor__n_estimators': [100, 200],\n",
        "    'regressor__max_depth': [10, 20, None]\n",
        "}"
      ],
      "metadata": {
        "id": "U3Go8fhUyauH"
      },
      "execution_count": null,
      "outputs": []
    },
    {
      "cell_type": "code",
      "source": [
        "grid_search = GridSearchCV(model_pipeline, param_grid, cv=5, scoring='neg_mean_squared_error')"
      ],
      "metadata": {
        "id": "vsEe3g7DycIX"
      },
      "execution_count": null,
      "outputs": []
    },
    {
      "cell_type": "code",
      "source": [
        "grid_search.fit(X_train, y_train)"
      ],
      "metadata": {
        "id": "FLUJUZbEyezj"
      },
      "execution_count": null,
      "outputs": []
    },
    {
      "cell_type": "code",
      "source": [
        "best_params = grid_search.best_params_"
      ],
      "metadata": {
        "id": "4aLBnkV2ygI2"
      },
      "execution_count": null,
      "outputs": []
    },
    {
      "cell_type": "code",
      "source": [
        "best_cv_mse = -grid_search.best_score_"
      ],
      "metadata": {
        "id": "JI3R3zaUyhel"
      },
      "execution_count": null,
      "outputs": []
    },
    {
      "cell_type": "code",
      "source": [
        "print(\"\\nBest Parameters:\", best_params)\n",
        "print(\"Best Cross-Validation MSE:\", best_cv_mse)"
      ],
      "metadata": {
        "id": "eOHsvqb1yjFI"
      },
      "execution_count": null,
      "outputs": []
    },
    {
      "cell_type": "code",
      "source": [
        "metrics_log = {\n",
        "    \"best_params\": best_params,\n",
        "    \"best_cv_mse\": best_cv_mse,\n",
        "    \"validation_mse\": mean_squared_error(y_val, y_pred_val), # Calculate and assign to 'validation_mse'\n",
        "    \"validation_rmse\": np.sqrt(mean_squared_error(y_val, y_pred_val)), # Calculate and assign to 'validation_rmse'\n",
        "    \"validation_mae\": mean_absolute_error(y_val, y_pred_val), # Calculate and assign to 'validation_mae'\n",
        "    \"validation_r2\": r2,\n",
        "    \"validation_adjusted_r2\": adjusted_r2\n",
        "}"
      ],
      "metadata": {
        "id": "L6_eyAXiyp60"
      },
      "execution_count": null,
      "outputs": []
    },
    {
      "cell_type": "code",
      "source": [
        "with open(\"model_metrics.json\", \"w\") as f:\n",
        "    json.dump(metrics_log, f, indent=4)\n",
        "print(\"Metrics logged to model_metrics.json\")"
      ],
      "metadata": {
        "id": "jV_pmmbuytni"
      },
      "execution_count": null,
      "outputs": []
    },
    {
      "cell_type": "code",
      "source": [
        "X_train_trans = preprocessor.fit_transform(X_train)"
      ],
      "metadata": {
        "id": "psoNYpGRyuH4"
      },
      "execution_count": null,
      "outputs": []
    },
    {
      "cell_type": "code",
      "source": [
        "regressor = model_pipeline.named_steps['regressor']"
      ],
      "metadata": {
        "id": "a4B0qRwMyz4V"
      },
      "execution_count": null,
      "outputs": []
    },
    {
      "cell_type": "code",
      "source": [
        "explainer = shap.TreeExplainer(regressor)"
      ],
      "metadata": {
        "id": "haUa0nLhy0YQ"
      },
      "execution_count": null,
      "outputs": []
    },
    {
      "cell_type": "code",
      "source": [
        "shap_values = explainer.shap_values(X_train_trans)"
      ],
      "metadata": {
        "id": "RMuvaqdty6FV"
      },
      "execution_count": null,
      "outputs": []
    },
    {
      "cell_type": "code",
      "source": [
        "feature_names_num = numerical_features"
      ],
      "metadata": {
        "id": "uK6VqFbzy9M9"
      },
      "execution_count": null,
      "outputs": []
    },
    {
      "cell_type": "code",
      "source": [
        "feature_names_cat = model_pipeline.named_steps['preprocessor'].transformers_[1][1] \\\n",
        "    .named_steps['onehot'].get_feature_names_out(categorical_features)\n",
        "feature_names = np.concatenate([feature_names_num, feature_names_cat])"
      ],
      "metadata": {
        "id": "KSzEddzmzAUy"
      },
      "execution_count": null,
      "outputs": []
    },
    {
      "cell_type": "code",
      "source": [
        "shap_values = explainer.shap_values(X_train_trans.toarray()) # Convert to dense NumPy array"
      ],
      "metadata": {
        "id": "QH9sOA9WzCZc"
      },
      "execution_count": null,
      "outputs": []
    },
    {
      "cell_type": "code",
      "source": [
        "top_feature = feature_names[np.argmax(regressor.feature_importances_)]"
      ],
      "metadata": {
        "id": "FKIBtyxgzEjB"
      },
      "execution_count": null,
      "outputs": []
    },
    {
      "cell_type": "code",
      "source": [
        "shap.dependence_plot(top_feature, shap_values, X_train_trans.toarray(), feature_names=feature_names)\n",
        "# Convert X_train_trans to a dense array using toarray()"
      ],
      "metadata": {
        "id": "1GQKS5bPzGXH"
      },
      "execution_count": null,
      "outputs": []
    },
    {
      "cell_type": "code",
      "source": [
        "y_pred_test = model_pipeline.predict(X_test)"
      ],
      "metadata": {
        "id": "E4khRdNM9M0y"
      },
      "execution_count": null,
      "outputs": []
    },
    {
      "cell_type": "code",
      "source": [
        "print(\"\\nTest Metrics:\")\n",
        "print(\"Test MSE:\", mean_squared_error(y_test, y_pred_test))\n",
        "print(\"Test RMSE:\", np.sqrt(mean_squared_error(y_test, y_pred_test)))\n",
        "print(\"Test MAE:\", mean_absolute_error(y_test, y_pred_test))\n",
        "print(\"Test R2:\", r2_score(y_test, y_pred_test))"
      ],
      "metadata": {
        "id": "WMlmolCmzJ1R"
      },
      "execution_count": null,
      "outputs": []
    },
    {
      "cell_type": "code",
      "source": [],
      "metadata": {
        "id": "QVlZ0xvF0lWX"
      },
      "execution_count": null,
      "outputs": []
    }
  ]
}